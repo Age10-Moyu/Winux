{
 "cells": [
  {
   "cell_type": "markdown",
   "id": "fdeab801",
   "metadata": {},
   "source": [
    "# Winux ALPHA 25070513 Update Dialog\n",
    "\n",
    "还是那句话：<del>太好了，是PreDev版本，我们没救了</del>\n",
    "这次我发现了一件事：其实我只要把镜像改为<a href=\"https://kkgithub.com/Age10-Moyu/Winux\">KKGitHub</a>就可以了，原来是网络问题啊（雾）\n",
    "\n",
    "<details>\n",
    "<summary>详细更新内容</summary>\n",
    "\n",
    "1. **仍然没有解决的 Bug**  \n",
    "    在内联访问`pc install /value:{...} /command:yes`时不会有任何输出，详见<a href=\"https://kkgithub.com/Age10-Moyu/Winux/issues/2\">此处</a>。\\\n",
    "    在 Git 上所有的更改都被意外迁出了，目前不知道对 GitHub 的仓库有没有影响。\n",
    "\n",
    "2. **新功能**  \n",
    "    加入了新的组件：`notepad.py`和`method.py`\\\n",
    "    修订license文件，换上了更开放的OCL\n",
    "\n",
    "3. **修复**  \n",
    "    对部分硬编码使用了 SHA256 加密。\\\n",
    "    完善了部分细节的代码。\\\n",
    "    修订了一些 Bug<del>，同时蹦出来了更多 Bug </del>\n",
    "\n",
    "\n",
    "\n",
    "</details>\n",
    "\n",
    "\n",
    "> [!IMPORTANT]\n",
    "> 本次更新为Dev版本，相较于常规版本会更不稳定，请谨慎使用。\n",
    "> 使用本产品即视为您已阅读并同意仓库中的license文件。\n",
    "> 我们正在重写license文件。在将来，原有的license文件将会弃用。\n",
    "\n",
    "---\n",
    "Cpoyright 2025 Bedrock Technology & Gaming Team.\\\n",
    "BTAGT，隶属于GD Studio in China。此标识由GD Studio许可在中国大陆地区使用。\\\n",
    "By Age10_Moyu."
   ]
  }
 ],
 "metadata": {
  "language_info": {
   "name": "python"
  }
 },
 "nbformat": 4,
 "nbformat_minor": 5
}
