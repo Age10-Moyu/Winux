{
 "cells": [
  {
   "cell_type": "markdown",
   "id": "fdeab801",
   "metadata": {},
   "source": [
    "# Winux RD 25061503 Update Dialog\n",
    "\n",
    "~~太好了，是PreDev版本，我们没救了~~\n",
    "因为Release包没法发布，只能通过[这里](https://github.com/user-attachments/files/20743968/winux-rd_25061503.zip)下载了\n",
    "\n",
    "<details>\n",
    "<summary>详细更新内容</summary>\n",
    "\n",
    "1. **兼容性**  \n",
    "    现在Winux可以在pythonw.exe上取得较好的兼容性\\\n",
    "    也就是说，不太可能会有什么奇奇怪怪的报错了……比如ImportError\n",
    "\n",
    "2. **新功能**  \n",
    "    ~~虽然只加了whoami、重启、还有一些杂七杂八的东西~~\\\n",
    "    ……但也肝了好久 =A=\n",
    "\n",
    "3. **外联**  \n",
    "    现在，user.py、special.py等已经可以通过`& python.exe special.py -m help`进行外联访问了。\n",
    "\n",
    "4. **优化**  \n",
    "    ping的主机修改为了`www.baidu.com`，因为这个域名在中国大陆地区的访问速度更快。\\\n",
    "    也就是说，ping的参数使用了`ping baidu.com -n 1`。\\\n",
    "    <sup>细节：`-n 1`</sup>\n",
    "\n",
    "5. **代码审阅**\n",
    "    使用DSV3进行代码审阅，所以相较于以往的PerDev会更稳定\n",
    "\\\n",
    "\\\n",
    "\\\n",
    "<sup>~~这里是后期的Caviar，我感觉再看下去我就要炸了，默鱼你自己看看你写的是一坨什么玩意~~</sup>\n",
    "\n",
    "</details>\n",
    "\n",
    "\n",
    "> [!IMPORTANT]\n",
    "> 本次更新为PerDev版本，相较于常规版本会更不稳定，请谨慎使用。\n",
    "> 使用本产品即视为您已阅读并同意仓库中的license文件。\n",
    "\n",
    "---\n",
    "Cpoyright 2025 Bedrock Technology & Gaming Team.\\\n",
    "BTAGT，隶属于GD Studio in China。此标识由GD Studio许可在中国大陆地区使用。\\\n",
    "By Age10_Moyu."
   ]
  }
 ],
 "metadata": {
  "language_info": {
   "name": "python"
  }
 },
 "nbformat": 4,
 "nbformat_minor": 5
}
